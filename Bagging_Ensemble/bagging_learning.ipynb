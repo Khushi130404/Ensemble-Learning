{
 "cells": [
  {
   "cell_type": "code",
   "execution_count": 29,
   "metadata": {},
   "outputs": [],
   "source": [
    "import numpy as np\n",
    "import pandas as pd\n",
    "import matplotlib.pyplot as plt\n",
    "from sklearn.model_selection import train_test_split\n",
    "from sklearn.metrics import accuracy_score\n",
    "from sklearn.tree import DecisionTreeClassifier,plot_tree\n",
    "from sklearn.ensemble import BaggingClassifier\n",
    "from mlxtend.plotting import plot_decision_regions\n",
    "from sklearn.datasets import make_classification"
   ]
  },
  {
   "cell_type": "code",
   "execution_count": 16,
   "metadata": {},
   "outputs": [],
   "source": [
    "x, y = make_classification(\n",
    "    n_samples=100,       \n",
    "    n_features=4,        \n",
    "    n_classes=3,         \n",
    "    n_informative=3,     \n",
    "    n_redundant=1,       \n",
    "    n_clusters_per_class=2,  \n",
    "    flip_y=0.03,         \n",
    "    class_sep=1.5,       \n",
    "    random_state=42\n",
    ")"
   ]
  },
  {
   "cell_type": "code",
   "execution_count": 22,
   "metadata": {},
   "outputs": [],
   "source": [
    "df = pd.DataFrame(x,columns=['feature1','feature2','feature3','feature4'])\n",
    "df['target'] = y"
   ]
  },
  {
   "cell_type": "code",
   "execution_count": 23,
   "metadata": {},
   "outputs": [
    {
     "data": {
      "text/html": [
       "<div>\n",
       "<style scoped>\n",
       "    .dataframe tbody tr th:only-of-type {\n",
       "        vertical-align: middle;\n",
       "    }\n",
       "\n",
       "    .dataframe tbody tr th {\n",
       "        vertical-align: top;\n",
       "    }\n",
       "\n",
       "    .dataframe thead th {\n",
       "        text-align: right;\n",
       "    }\n",
       "</style>\n",
       "<table border=\"1\" class=\"dataframe\">\n",
       "  <thead>\n",
       "    <tr style=\"text-align: right;\">\n",
       "      <th></th>\n",
       "      <th>feature1</th>\n",
       "      <th>feature2</th>\n",
       "      <th>feature3</th>\n",
       "      <th>feature4</th>\n",
       "      <th>target</th>\n",
       "    </tr>\n",
       "  </thead>\n",
       "  <tbody>\n",
       "    <tr>\n",
       "      <th>0</th>\n",
       "      <td>2.918974</td>\n",
       "      <td>0.447607</td>\n",
       "      <td>-1.809900</td>\n",
       "      <td>1.498321</td>\n",
       "      <td>1</td>\n",
       "    </tr>\n",
       "    <tr>\n",
       "      <th>1</th>\n",
       "      <td>-0.017866</td>\n",
       "      <td>-2.611619</td>\n",
       "      <td>-0.980863</td>\n",
       "      <td>-2.528572</td>\n",
       "      <td>0</td>\n",
       "    </tr>\n",
       "    <tr>\n",
       "      <th>2</th>\n",
       "      <td>-1.921793</td>\n",
       "      <td>-1.668640</td>\n",
       "      <td>0.359803</td>\n",
       "      <td>-2.590044</td>\n",
       "      <td>1</td>\n",
       "    </tr>\n",
       "    <tr>\n",
       "      <th>3</th>\n",
       "      <td>-2.264680</td>\n",
       "      <td>-0.968930</td>\n",
       "      <td>2.375779</td>\n",
       "      <td>-0.682308</td>\n",
       "      <td>1</td>\n",
       "    </tr>\n",
       "    <tr>\n",
       "      <th>4</th>\n",
       "      <td>2.898465</td>\n",
       "      <td>2.919181</td>\n",
       "      <td>-4.634541</td>\n",
       "      <td>0.497967</td>\n",
       "      <td>1</td>\n",
       "    </tr>\n",
       "  </tbody>\n",
       "</table>\n",
       "</div>"
      ],
      "text/plain": [
       "   feature1  feature2  feature3  feature4  target\n",
       "0  2.918974  0.447607 -1.809900  1.498321       1\n",
       "1 -0.017866 -2.611619 -0.980863 -2.528572       0\n",
       "2 -1.921793 -1.668640  0.359803 -2.590044       1\n",
       "3 -2.264680 -0.968930  2.375779 -0.682308       1\n",
       "4  2.898465  2.919181 -4.634541  0.497967       1"
      ]
     },
     "execution_count": 23,
     "metadata": {},
     "output_type": "execute_result"
    }
   ],
   "source": [
    "df.head()"
   ]
  },
  {
   "cell_type": "code",
   "execution_count": 25,
   "metadata": {},
   "outputs": [],
   "source": [
    "df_train = df.iloc[:60,:].sample(10)\n",
    "df_val = df.iloc[60:80,:].sample(5)\n",
    "df_test = df.iloc[80:,:].sample(5)"
   ]
  },
  {
   "cell_type": "code",
   "execution_count": 30,
   "metadata": {},
   "outputs": [],
   "source": [
    "x_test = df_val.drop(columns=['target'])\n",
    "y_test = df_val['target']"
   ]
  },
  {
   "cell_type": "markdown",
   "metadata": {},
   "source": [
    "Evaluate"
   ]
  },
  {
   "cell_type": "code",
   "execution_count": 31,
   "metadata": {},
   "outputs": [],
   "source": [
    "def evaluate(clf,x,y):\n",
    "    clf.fit(x,y)\n",
    "    plot_tree(clf)\n",
    "    plt.show()\n",
    "    plot_decision_regions(X=x.values,y=y.values,clf=clf,legend=2)\n",
    "    y_pred = clf.predict(x_test)\n",
    "    print(accuracy_score(y_test,y_pred))"
   ]
  },
  {
   "cell_type": "markdown",
   "metadata": {},
   "source": [
    "Bagging"
   ]
  },
  {
   "cell_type": "code",
   "execution_count": 32,
   "metadata": {},
   "outputs": [
    {
     "data": {
      "text/html": [
       "<div>\n",
       "<style scoped>\n",
       "    .dataframe tbody tr th:only-of-type {\n",
       "        vertical-align: middle;\n",
       "    }\n",
       "\n",
       "    .dataframe tbody tr th {\n",
       "        vertical-align: top;\n",
       "    }\n",
       "\n",
       "    .dataframe thead th {\n",
       "        text-align: right;\n",
       "    }\n",
       "</style>\n",
       "<table border=\"1\" class=\"dataframe\">\n",
       "  <thead>\n",
       "    <tr style=\"text-align: right;\">\n",
       "      <th></th>\n",
       "      <th>feature1</th>\n",
       "      <th>feature2</th>\n",
       "      <th>feature3</th>\n",
       "      <th>feature4</th>\n",
       "      <th>target</th>\n",
       "    </tr>\n",
       "  </thead>\n",
       "  <tbody>\n",
       "    <tr>\n",
       "      <th>31</th>\n",
       "      <td>-1.080419</td>\n",
       "      <td>0.715335</td>\n",
       "      <td>0.690509</td>\n",
       "      <td>0.015002</td>\n",
       "      <td>2</td>\n",
       "    </tr>\n",
       "    <tr>\n",
       "      <th>9</th>\n",
       "      <td>-1.748594</td>\n",
       "      <td>-0.743457</td>\n",
       "      <td>-1.684830</td>\n",
       "      <td>-3.671819</td>\n",
       "      <td>2</td>\n",
       "    </tr>\n",
       "    <tr>\n",
       "      <th>27</th>\n",
       "      <td>1.100542</td>\n",
       "      <td>-2.681807</td>\n",
       "      <td>-1.216707</td>\n",
       "      <td>-1.696348</td>\n",
       "      <td>0</td>\n",
       "    </tr>\n",
       "    <tr>\n",
       "      <th>41</th>\n",
       "      <td>-2.447204</td>\n",
       "      <td>-1.534946</td>\n",
       "      <td>-2.875537</td>\n",
       "      <td>-5.911108</td>\n",
       "      <td>2</td>\n",
       "    </tr>\n",
       "    <tr>\n",
       "      <th>31</th>\n",
       "      <td>-1.080419</td>\n",
       "      <td>0.715335</td>\n",
       "      <td>0.690509</td>\n",
       "      <td>0.015002</td>\n",
       "      <td>2</td>\n",
       "    </tr>\n",
       "    <tr>\n",
       "      <th>0</th>\n",
       "      <td>2.918974</td>\n",
       "      <td>0.447607</td>\n",
       "      <td>-1.809900</td>\n",
       "      <td>1.498321</td>\n",
       "      <td>1</td>\n",
       "    </tr>\n",
       "    <tr>\n",
       "      <th>17</th>\n",
       "      <td>-3.288654</td>\n",
       "      <td>0.279886</td>\n",
       "      <td>-1.441003</td>\n",
       "      <td>-4.310455</td>\n",
       "      <td>2</td>\n",
       "    </tr>\n",
       "    <tr>\n",
       "      <th>17</th>\n",
       "      <td>-3.288654</td>\n",
       "      <td>0.279886</td>\n",
       "      <td>-1.441003</td>\n",
       "      <td>-4.310455</td>\n",
       "      <td>2</td>\n",
       "    </tr>\n",
       "  </tbody>\n",
       "</table>\n",
       "</div>"
      ],
      "text/plain": [
       "    feature1  feature2  feature3  feature4  target\n",
       "31 -1.080419  0.715335  0.690509  0.015002       2\n",
       "9  -1.748594 -0.743457 -1.684830 -3.671819       2\n",
       "27  1.100542 -2.681807 -1.216707 -1.696348       0\n",
       "41 -2.447204 -1.534946 -2.875537 -5.911108       2\n",
       "31 -1.080419  0.715335  0.690509  0.015002       2\n",
       "0   2.918974  0.447607 -1.809900  1.498321       1\n",
       "17 -3.288654  0.279886 -1.441003 -4.310455       2\n",
       "17 -3.288654  0.279886 -1.441003 -4.310455       2"
      ]
     },
     "execution_count": 32,
     "metadata": {},
     "output_type": "execute_result"
    }
   ],
   "source": [
    "df_bag = df_train.sample(8,replace=True)\n",
    "x = df_bag.drop(columns=['target'])\n",
    "y = df_bag['target']\n",
    "df_bag"
   ]
  },
  {
   "cell_type": "code",
   "execution_count": null,
   "metadata": {},
   "outputs": [],
   "source": []
  }
 ],
 "metadata": {
  "kernelspec": {
   "display_name": "base",
   "language": "python",
   "name": "python3"
  },
  "language_info": {
   "codemirror_mode": {
    "name": "ipython",
    "version": 3
   },
   "file_extension": ".py",
   "mimetype": "text/x-python",
   "name": "python",
   "nbconvert_exporter": "python",
   "pygments_lexer": "ipython3",
   "version": "3.11.4"
  }
 },
 "nbformat": 4,
 "nbformat_minor": 2
}
