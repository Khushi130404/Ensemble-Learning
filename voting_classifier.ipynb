{
 "cells": [
  {
   "cell_type": "code",
   "execution_count": 49,
   "metadata": {},
   "outputs": [],
   "source": [
    "import numpy as np\n",
    "from sklearn.datasets import make_classification\n",
    "from sklearn.linear_model import LogisticRegression\n",
    "from sklearn.neighbors import KNeighborsClassifier\n",
    "from sklearn.ensemble import RandomForestClassifier,VotingClassifier\n",
    "from sklearn.model_selection import cross_val_score"
   ]
  },
  {
   "cell_type": "code",
   "execution_count": 50,
   "metadata": {},
   "outputs": [],
   "source": [
    "x, y = make_classification(n_samples=100, n_features=20, n_informative=15, n_classes=3, random_state=42)"
   ]
  },
  {
   "cell_type": "code",
   "execution_count": 51,
   "metadata": {},
   "outputs": [
    {
     "data": {
      "text/plain": [
       "array([[-1.96429252,  3.40364591,  1.75817634, ..., -0.24649777,\n",
       "         1.05443165,  0.30019101],\n",
       "       [-1.3723746 , -0.8271026 ,  0.96128042, ...,  0.15755411,\n",
       "         0.85064767, -2.36666192],\n",
       "       [ 0.76527644,  0.85358979, -5.15548568, ..., -3.50471165,\n",
       "         0.53879816,  1.06964368],\n",
       "       ...,\n",
       "       [-0.55319218,  0.75751982,  2.60805718, ..., -2.66351776,\n",
       "        -0.49214352,  0.63749865],\n",
       "       [ 0.34306701,  0.2755042 , -0.48127531, ..., -4.66891565,\n",
       "        -0.182421  , -0.70451483],\n",
       "       [-1.06301799,  0.5937613 ,  3.07234512, ...,  0.48416381,\n",
       "         0.28218741, -4.19708556]])"
      ]
     },
     "execution_count": 51,
     "metadata": {},
     "output_type": "execute_result"
    }
   ],
   "source": [
    "x"
   ]
  },
  {
   "cell_type": "code",
   "execution_count": 52,
   "metadata": {},
   "outputs": [],
   "source": [
    "lr = LogisticRegression()\n",
    "rf = RandomForestClassifier()\n",
    "knn = KNeighborsClassifier()"
   ]
  },
  {
   "cell_type": "code",
   "execution_count": 53,
   "metadata": {},
   "outputs": [],
   "source": [
    "estimator = [('lr',lr),('rf',rf),('knn',knn)]"
   ]
  },
  {
   "cell_type": "code",
   "execution_count": 54,
   "metadata": {},
   "outputs": [
    {
     "name": "stdout",
     "output_type": "stream",
     "text": [
      "lr : 0.5900000000000001\n",
      "rf : 0.58\n",
      "knn : 0.71\n"
     ]
    }
   ],
   "source": [
    "for est in estimator:\n",
    "    acc = cross_val_score(est[1],x,y,cv=10,scoring='accuracy')\n",
    "    print(est[0],\":\",acc.mean())"
   ]
  },
  {
   "cell_type": "code",
   "execution_count": 55,
   "metadata": {},
   "outputs": [
    {
     "data": {
      "text/plain": [
       "0.67"
      ]
     },
     "execution_count": 55,
     "metadata": {},
     "output_type": "execute_result"
    }
   ],
   "source": [
    "cross_val_score(VotingClassifier(estimators=estimator,voting='hard'),x,y,cv=10,scoring='accuracy').mean()"
   ]
  },
  {
   "cell_type": "code",
   "execution_count": 56,
   "metadata": {},
   "outputs": [
    {
     "data": {
      "text/plain": [
       "0.65"
      ]
     },
     "execution_count": 56,
     "metadata": {},
     "output_type": "execute_result"
    }
   ],
   "source": [
    "cross_val_score(VotingClassifier(estimators=estimator,voting='soft'),x,y,cv=10,scoring='accuracy').mean()"
   ]
  },
  {
   "cell_type": "code",
   "execution_count": 57,
   "metadata": {},
   "outputs": [
    {
     "name": "stdout",
     "output_type": "stream",
     "text": [
      "for i=1 j=1 k=1 acc = 0.65\n",
      "for i=1 j=1 k=2 acc = 0.6799999999999999\n",
      "for i=1 j=1 k=3 acc = 0.6799999999999999\n",
      "for i=1 j=2 k=1 acc = 0.63\n",
      "for i=1 j=2 k=2 acc = 0.6799999999999999\n",
      "for i=1 j=2 k=3 acc = 0.67\n",
      "for i=1 j=3 k=1 acc = 0.66\n",
      "for i=1 j=3 k=2 acc = 0.66\n",
      "for i=1 j=3 k=3 acc = 0.67\n",
      "for i=2 j=1 k=1 acc = 0.63\n",
      "for i=2 j=1 k=2 acc = 0.65\n",
      "for i=2 j=1 k=3 acc = 0.6799999999999999\n",
      "for i=2 j=2 k=1 acc = 0.63\n",
      "for i=2 j=2 k=2 acc = 0.65\n",
      "for i=2 j=2 k=3 acc = 0.6500000000000001\n",
      "for i=2 j=3 k=1 acc = 0.65\n",
      "for i=2 j=3 k=2 acc = 0.66\n",
      "for i=2 j=3 k=3 acc = 0.68\n",
      "for i=3 j=1 k=1 acc = 0.63\n",
      "for i=3 j=1 k=2 acc = 0.63\n",
      "for i=3 j=1 k=3 acc = 0.6500000000000001\n",
      "for i=3 j=2 k=1 acc = 0.6399999999999999\n",
      "for i=3 j=2 k=2 acc = 0.63\n",
      "for i=3 j=2 k=3 acc = 0.65\n",
      "for i=3 j=3 k=1 acc = 0.6499999999999999\n",
      "for i=3 j=3 k=2 acc = 0.6399999999999999\n",
      "for i=3 j=3 k=3 acc = 0.65\n"
     ]
    }
   ],
   "source": [
    "for i in range(1,4):\n",
    "    for j in range(1,4):\n",
    "        for k in range(1,4):\n",
    "            acc = cross_val_score(VotingClassifier(estimators=estimator,voting='soft',weights=[i,j,k]),x,y,cv=10,scoring='accuracy').mean()\n",
    "            print(\"for i={} j={} k={} acc = {}\".format(i,j,k,acc))"
   ]
  },
  {
   "cell_type": "code",
   "execution_count": null,
   "metadata": {},
   "outputs": [],
   "source": []
  }
 ],
 "metadata": {
  "kernelspec": {
   "display_name": "base",
   "language": "python",
   "name": "python3"
  },
  "language_info": {
   "codemirror_mode": {
    "name": "ipython",
    "version": 3
   },
   "file_extension": ".py",
   "mimetype": "text/x-python",
   "name": "python",
   "nbconvert_exporter": "python",
   "pygments_lexer": "ipython3",
   "version": "3.11.4"
  }
 },
 "nbformat": 4,
 "nbformat_minor": 2
}
