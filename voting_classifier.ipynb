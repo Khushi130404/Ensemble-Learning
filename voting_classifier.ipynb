{
 "cells": [
  {
   "cell_type": "code",
   "execution_count": 31,
   "metadata": {},
   "outputs": [],
   "source": [
    "import numpy as np\n",
    "from sklearn.datasets import make_classification\n",
    "from sklearn.linear_model import LogisticRegression\n",
    "from sklearn.neighbors import KNeighborsClassifier\n",
    "from sklearn.ensemble import RandomForestClassifier\n",
    "from sklearn.model_selection import cross_val_score"
   ]
  },
  {
   "cell_type": "code",
   "execution_count": 32,
   "metadata": {},
   "outputs": [],
   "source": [
    "x, y = make_classification(n_samples=1000, n_features=20, n_informative=15, n_classes=3, random_state=42)"
   ]
  },
  {
   "cell_type": "code",
   "execution_count": 33,
   "metadata": {},
   "outputs": [
    {
     "data": {
      "text/plain": [
       "array([[ 1.50859903, -3.73028866,  0.43689498, ..., -1.67359752,\n",
       "        -1.91476986, -0.64493562],\n",
       "       [-1.08580885, -2.07107013, -1.23711982, ...,  3.7872604 ,\n",
       "        -2.58337265,  0.63659388],\n",
       "       [ 1.13186375,  2.47790303,  0.8426801 , ...,  0.06466985,\n",
       "         0.15792623,  3.0733003 ],\n",
       "       ...,\n",
       "       [ 1.92923965, -0.96904612, -3.23097612, ...,  0.212403  ,\n",
       "        -2.77909634, -0.80040761],\n",
       "       [ 0.73428224,  4.41847353,  0.57568325, ...,  0.00486872,\n",
       "         0.62613292,  2.07612221],\n",
       "       [-3.03511873,  0.34057879,  3.66745232, ..., -4.07603758,\n",
       "        -3.27035366,  4.220097  ]])"
      ]
     },
     "execution_count": 33,
     "metadata": {},
     "output_type": "execute_result"
    }
   ],
   "source": [
    "x"
   ]
  },
  {
   "cell_type": "code",
   "execution_count": 34,
   "metadata": {},
   "outputs": [],
   "source": [
    "lr = LogisticRegression()\n",
    "rf = RandomForestClassifier()\n",
    "knn = KNeighborsClassifier()"
   ]
  },
  {
   "cell_type": "code",
   "execution_count": 35,
   "metadata": {},
   "outputs": [],
   "source": [
    "estimator = [('lr',lr),('rf',rf),('knn',knn)]"
   ]
  },
  {
   "cell_type": "code",
   "execution_count": 36,
   "metadata": {},
   "outputs": [
    {
     "name": "stdout",
     "output_type": "stream",
     "text": [
      "lr : 0.6799999999999999\n",
      "rf : 0.77\n",
      "knn : 0.793\n"
     ]
    }
   ],
   "source": [
    "for est in estimator:\n",
    "    acc = cross_val_score(est[1],x,y,cv=10,scoring='accuracy')\n",
    "    print(est[0],\":\",acc.mean())"
   ]
  },
  {
   "cell_type": "code",
   "execution_count": null,
   "metadata": {},
   "outputs": [],
   "source": []
  }
 ],
 "metadata": {
  "kernelspec": {
   "display_name": "base",
   "language": "python",
   "name": "python3"
  },
  "language_info": {
   "codemirror_mode": {
    "name": "ipython",
    "version": 3
   },
   "file_extension": ".py",
   "mimetype": "text/x-python",
   "name": "python",
   "nbconvert_exporter": "python",
   "pygments_lexer": "ipython3",
   "version": "3.11.4"
  }
 },
 "nbformat": 4,
 "nbformat_minor": 2
}
