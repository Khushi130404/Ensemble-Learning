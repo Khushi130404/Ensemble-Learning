{
 "cells": [
  {
   "cell_type": "code",
   "execution_count": 6,
   "metadata": {},
   "outputs": [],
   "source": [
    "import numpy as np\n",
    "from sklearn.datasets import make_regression\n",
    "from sklearn.linear_model import LinearRegression\n",
    "from sklearn.svm import SVR\n",
    "from sklearn.tree import DecisionTreeRegressor\n",
    "from sklearn.model_selection import cross_val_score\n",
    "from sklearn.ensemble import VotingRegressor"
   ]
  },
  {
   "cell_type": "code",
   "execution_count": 4,
   "metadata": {},
   "outputs": [],
   "source": [
    "x,y = make_regression(n_samples=400,n_features=10,n_targets=1)"
   ]
  },
  {
   "cell_type": "code",
   "execution_count": 5,
   "metadata": {},
   "outputs": [
    {
     "data": {
      "text/plain": [
       "array([[-0.13462496, -0.29713283,  1.19042952, ...,  1.63900784,\n",
       "        -0.34513014,  0.87489154],\n",
       "       [-0.42346413, -0.05208632, -0.72996383, ...,  1.82465138,\n",
       "         0.32574738,  0.93215099],\n",
       "       [ 0.49761484,  1.38399179,  0.44543993, ...,  1.02013559,\n",
       "         0.20469497,  0.59136068],\n",
       "       ...,\n",
       "       [-0.37538362,  0.22511333, -0.74518863, ...,  0.14263896,\n",
       "        -0.98174151,  1.09303501],\n",
       "       [ 0.25227922, -0.8475753 , -0.01459376, ..., -1.37457531,\n",
       "         0.48051536,  1.02149387],\n",
       "       [-1.22467874,  1.74630994,  0.28246669, ...,  1.67724714,\n",
       "        -0.77813527,  0.32235933]])"
      ]
     },
     "execution_count": 5,
     "metadata": {},
     "output_type": "execute_result"
    }
   ],
   "source": [
    "x"
   ]
  },
  {
   "cell_type": "code",
   "execution_count": 7,
   "metadata": {},
   "outputs": [],
   "source": [
    "lr = LinearRegression()\n",
    "svr = SVR()\n",
    "dt = DecisionTreeRegressor()"
   ]
  },
  {
   "cell_type": "code",
   "execution_count": 8,
   "metadata": {},
   "outputs": [],
   "source": [
    "estimator = [('lr',lr),('svr',svr),('dt',dt)]"
   ]
  },
  {
   "cell_type": "code",
   "execution_count": 9,
   "metadata": {},
   "outputs": [
    {
     "name": "stdout",
     "output_type": "stream",
     "text": [
      "lr : 1.0\n",
      "svr : 0.046396384927320476\n",
      "dt : 0.38710457065767256\n"
     ]
    }
   ],
   "source": [
    "for est in estimator:\n",
    "    acc = cross_val_score(est[1],x,y,cv=10,scoring='r2').mean()\n",
    "    print(est[0],\":\",acc)"
   ]
  },
  {
   "cell_type": "code",
   "execution_count": 10,
   "metadata": {},
   "outputs": [
    {
     "data": {
      "text/plain": [
       "0.7554901562973992"
      ]
     },
     "execution_count": 10,
     "metadata": {},
     "output_type": "execute_result"
    }
   ],
   "source": [
    "cross_val_score(VotingRegressor(estimators=estimator),x,y,cv=10,scoring='r2').mean()"
   ]
  },
  {
   "cell_type": "code",
   "execution_count": 12,
   "metadata": {},
   "outputs": [
    {
     "name": "stdout",
     "output_type": "stream",
     "text": [
      "for i=1 j=1 k=1 acc=0.7529337058277795\n",
      "for i=1 j=1 k=2 acc=0.7055259538559566\n",
      "for i=1 j=1 k=3 acc=0.6696113332780588\n",
      "for i=1 j=2 k=1 acc=0.648751109651462\n",
      "for i=1 j=2 k=2 acc=0.6415734028065211\n",
      "for i=1 j=2 k=3 acc=0.6268563093792542\n",
      "for i=1 j=3 k=1 acc=0.5535043005882834\n",
      "for i=1 j=3 k=2 acc=0.5929506911663022\n",
      "for i=1 j=3 k=3 acc=0.5859786181226344\n",
      "for i=2 j=1 k=1 acc=0.8588729667040326\n",
      "for i=2 j=1 k=2 acc=0.813455701824749\n",
      "for i=2 j=1 k=3 acc=0.7701535665084759\n",
      "for i=2 j=2 k=1 acc=0.774514729298694\n",
      "for i=2 j=2 k=2 acc=0.7572520680558523\n",
      "for i=2 j=2 k=3 acc=0.7335672575307959\n",
      "for i=2 j=3 k=1 acc=0.6904448984357099\n",
      "for i=2 j=3 k=2 acc=0.6945091323117368\n",
      "for i=2 j=3 k=3 acc=0.6924161976726273\n",
      "for i=3 j=1 k=1 acc=0.9126185165154549\n",
      "for i=3 j=1 k=2 acc=0.8731215858432467\n",
      "for i=3 j=1 k=3 acc=0.8387676140800527\n",
      "for i=3 j=2 k=1 acc=0.8411623975752157\n",
      "for i=3 j=2 k=2 acc=0.8217569608346473\n",
      "for i=3 j=2 k=3 acc=0.7926637155960073\n",
      "for i=3 j=3 k=1 acc=0.7701937509979702\n",
      "for i=3 j=3 k=2 acc=0.7710470559907137\n",
      "for i=3 j=3 k=3 acc=0.759327049730701\n"
     ]
    }
   ],
   "source": [
    "for i in range(1,4):\n",
    "    for j in range(1,4):\n",
    "        for k in range(1,4):\n",
    "            acc = cross_val_score(VotingRegressor(estimators=estimator,weights=[i,j,k]),x,y,cv=10,scoring='r2').mean()\n",
    "            print(\"for i={} j={} k={} acc={}\".format(i,j,k,acc))"
   ]
  },
  {
   "cell_type": "code",
   "execution_count": null,
   "metadata": {},
   "outputs": [],
   "source": []
  }
 ],
 "metadata": {
  "kernelspec": {
   "display_name": "base",
   "language": "python",
   "name": "python3"
  },
  "language_info": {
   "codemirror_mode": {
    "name": "ipython",
    "version": 3
   },
   "file_extension": ".py",
   "mimetype": "text/x-python",
   "name": "python",
   "nbconvert_exporter": "python",
   "pygments_lexer": "ipython3",
   "version": "3.11.4"
  }
 },
 "nbformat": 4,
 "nbformat_minor": 2
}
